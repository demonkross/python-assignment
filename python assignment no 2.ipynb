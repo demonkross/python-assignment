{
 "cells": [
  {
   "cell_type": "code",
   "execution_count": 1,
   "metadata": {},
   "outputs": [
    {
     "name": "stdout",
     "output_type": "stream",
     "text": [
      "Enter Marks in English :\t21\n",
      "Enter Marks in Maths: \t70\n",
      "Enter Marks in Physics: \t45\n",
      "Enter Marks in Chemistry: \t67\n",
      "Enter Marks in Computer Science: \t34\n",
      "Congratulations ! You have secured C grade, and your percentage is  47.4\n"
     ]
    }
   ],
   "source": [
    "a=float(input(\"Enter Marks in English :\\t\"))\n",
    "b=float(input(\"Enter Marks in Maths: \\t\"))\n",
    "c=float(input(\"Enter Marks in Physics: \\t\"))\n",
    "d=float(input(\"Enter Marks in Chemistry: \\t\"))\n",
    "e=float(input(\"Enter Marks in Computer Science: \\t\"))\n",
    "avg=((a+b+c+d+e)/500)*100\n",
    "if(avg>=80):\n",
    "    \n",
    " print(\"Congratulations ! You have secured A grade, and your percentage is \", avg)\n",
    "elif(avg>=60 and avg<80):\n",
    " print(\"Congratulations ! You have secured B garde your percentage is \", avg )\n",
    "elif (avg>=40 and avg<60):\n",
    "   print(\"Congratulations ! You have secured C grade, and your percentage is \", avg)\n",
    "elif (avg<40):\n",
    " print( \"You are fail\")\n"
   ]
  },
  {
   "cell_type": "code",
   "execution_count": 3,
   "metadata": {},
   "outputs": [
    {
     "name": "stdout",
     "output_type": "stream",
     "text": [
      "Enter a number: 2\n",
      "This is an even number.\n"
     ]
    }
   ],
   "source": [
    "num = int(input(\"Enter a number: \"))\n",
    "mod = num % 2\n",
    "if mod > 0:\n",
    "    print(\"This is an odd number.\")\n",
    "else:\n",
    "    print(\"This is an even number.\")\n"
   ]
  },
  {
   "cell_type": "code",
   "execution_count": 4,
   "metadata": {},
   "outputs": [
    {
     "name": "stdout",
     "output_type": "stream",
     "text": [
      "The list is : [1, 1, 2, 3, 5, 8, 13, 21, 34, 55, 89]\n"
     ]
    }
   ],
   "source": [
    "test_list = [ 1, 1, 2, 3, 5,8,13,21,34,55,89 ] \n",
    "  \n",
    "\n",
    "print (\"The list is : \" + str(test_list))\n"
   ]
  },
  {
   "cell_type": "code",
   "execution_count": 5,
   "metadata": {},
   "outputs": [
    {
     "name": "stdout",
     "output_type": "stream",
     "text": [
      "Sum of all elements in given list:  232\n"
     ]
    }
   ],
   "source": [
    "total = 0\n",
    "  \n",
    " \n",
    "list1 = [1, 1, 2, 3, 5,8,13,21,34,55,89,]  \n",
    "  \n",
    "\n",
    "for ele in range(0, len(list1)): \n",
    "    total = total + list1[ele] \n",
    "  \n",
    "\n",
    "print(\"Sum of all elements in given list: \", total)\n",
    "\n"
   ]
  },
  {
   "cell_type": "code",
   "execution_count": 8,
   "metadata": {},
   "outputs": [
    {
     "name": "stdout",
     "output_type": "stream",
     "text": [
      "Largest element is: 102\n"
     ]
    }
   ],
   "source": [
    "lst = [1, 1, 2, 3, 5,8,13,21,34,55,89,102]   \n",
    "print(\"Largest element is:\",max(lst))\n",
    "\n",
    "\n"
   ]
  },
  {
   "cell_type": "code",
   "execution_count": 9,
   "metadata": {},
   "outputs": [
    {
     "name": "stdout",
     "output_type": "stream",
     "text": [
      "[1, 1, 2, 3]\n"
     ]
    }
   ],
   "source": [
    "array=[1, 1, 2, 3, 5,8,13,21,34,55,89]\n",
    "a=array[:4]\n",
    "print(a)"
   ]
  }
 ],
 "metadata": {
  "kernelspec": {
   "display_name": "Python 3",
   "language": "python",
   "name": "python3"
  },
  "language_info": {
   "codemirror_mode": {
    "name": "ipython",
    "version": 3
   },
   "file_extension": ".py",
   "mimetype": "text/x-python",
   "name": "python",
   "nbconvert_exporter": "python",
   "pygments_lexer": "ipython3",
   "version": "3.7.4"
  }
 },
 "nbformat": 4,
 "nbformat_minor": 2
}
